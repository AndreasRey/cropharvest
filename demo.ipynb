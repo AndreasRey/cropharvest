{
 "cells": [
  {
   "cell_type": "markdown",
   "id": "determined-picking",
   "metadata": {},
   "source": [
    "# CropHarvest Demo"
   ]
  },
  {
   "cell_type": "code",
   "execution_count": 1,
   "id": "7cb0c058",
   "metadata": {},
   "outputs": [],
   "source": [
    "from cropharvest.datasets import CropHarvestLabels"
   ]
  },
  {
   "cell_type": "code",
   "execution_count": 2,
   "id": "7d6cf9e5",
   "metadata": {},
   "outputs": [],
   "source": [
    "labels = CropHarvestLabels(\"/Users/izvonkov/nasaharvest/test\", download=False)"
   ]
  },
  {
   "cell_type": "code",
   "execution_count": 3,
   "id": "00b93b56",
   "metadata": {},
   "outputs": [
    {
     "data": {
      "text/plain": [
       "90528"
      ]
     },
     "execution_count": 3,
     "metadata": {},
     "output_type": "execute_result"
    }
   ],
   "source": [
    "len(labels)"
   ]
  },
  {
   "cell_type": "code",
   "execution_count": 4,
   "id": "cc5e6a0d",
   "metadata": {},
   "outputs": [
    {
     "data": {
      "text/plain": [
       "index                                                                   0\n",
       "is_crop                                                                 1\n",
       "lat                                                               10.7126\n",
       "lon                                                               37.0831\n",
       "dataset                                                          ethiopia\n",
       "collection_date                                       2020-10-22T00:00:00\n",
       "export_end_date                                       2021-02-01T00:00:00\n",
       "harvest_date                                                         None\n",
       "planting_date                                                        None\n",
       "label                                                                None\n",
       "classification_label                                                 None\n",
       "geometry                POLYGON ((37.0825205254332 10.712735028397, 37...\n",
       "Name: 0, dtype: object"
      ]
     },
     "execution_count": 4,
     "metadata": {},
     "output_type": "execute_result"
    }
   ],
   "source": [
    "labels[0]"
   ]
  }
 ],
 "metadata": {
  "kernelspec": {
   "display_name": "Python 3",
   "language": "python",
   "name": "python3"
  },
  "language_info": {
   "codemirror_mode": {
    "name": "ipython",
    "version": 3
   },
   "file_extension": ".py",
   "mimetype": "text/x-python",
   "name": "python",
   "nbconvert_exporter": "python",
   "pygments_lexer": "ipython3",
   "version": "3.6.13"
  }
 },
 "nbformat": 4,
 "nbformat_minor": 5
}
