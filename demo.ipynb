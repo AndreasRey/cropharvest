{
 "cells": [
  {
   "cell_type": "markdown",
   "metadata": {},
   "source": [
    "# CropHarvest Demo"
   ]
  },
  {
   "cell_type": "code",
   "execution_count": 1,
   "metadata": {},
   "outputs": [],
   "source": [
    "from cropharvest.datasets import CropHarvestLabels, CropHarvest"
   ]
  },
  {
   "cell_type": "code",
   "execution_count": 2,
   "metadata": {},
   "outputs": [],
   "source": [
    "labels = CropHarvestLabels(\"data\")"
   ]
  },
  {
   "cell_type": "code",
   "execution_count": 3,
   "metadata": {},
   "outputs": [
    {
     "data": {
      "text/plain": [
       "index                                                                   0\n",
       "is_crop                                                                 1\n",
       "lat                                                               10.7126\n",
       "lon                                                               37.0831\n",
       "dataset                                                          ethiopia\n",
       "collection_date                                       2020-10-22T00:00:00\n",
       "export_end_date                                       2021-02-01T00:00:00\n",
       "harvest_date                                                         None\n",
       "planting_date                                                        None\n",
       "label                                                                None\n",
       "classification_label                                                 None\n",
       "is_test                                                             False\n",
       "geometry                POLYGON ((37.0825205254332 10.712735028397, 37...\n",
       "Name: 0, dtype: object"
      ]
     },
     "execution_count": 3,
     "metadata": {},
     "output_type": "execute_result"
    }
   ],
   "source": [
    "labels[0]"
   ]
  },
  {
   "cell_type": "code",
   "execution_count": 4,
   "metadata": {},
   "outputs": [],
   "source": [
    "evaluation_datasets = CropHarvest.create_benchmark_datasets(labels)"
   ]
  },
  {
   "cell_type": "code",
   "execution_count": 5,
   "metadata": {},
   "outputs": [
    {
     "data": {
      "text/plain": [
       "{'Kenya_maize': <cropharvest.datasets.CropHarvest at 0x7fca6f2f1e80>,\n",
       " 'Brazil_coffee': <cropharvest.datasets.CropHarvest at 0x7fca6f2f1e10>,\n",
       " 'United States of America_almond': <cropharvest.datasets.CropHarvest at 0x7fca6f2f7080>,\n",
       " 'togo-eval': <cropharvest.datasets.CropHarvest at 0x7fca6f2f7860>}"
      ]
     },
     "execution_count": 5,
     "metadata": {},
     "output_type": "execute_result"
    }
   ],
   "source": [
    "evaluation_datasets"
   ]
  },
  {
   "cell_type": "code",
   "execution_count": 6,
   "metadata": {},
   "outputs": [],
   "source": [
    "# train a Random Forest model on the Togo dataset"
   ]
  },
  {
   "cell_type": "code",
   "execution_count": 7,
   "metadata": {},
   "outputs": [],
   "source": [
    "import numpy as np\n",
    "from sklearn.ensemble import RandomForestClassifier\n",
    "from sklearn.metrics import roc_auc_score"
   ]
  },
  {
   "cell_type": "code",
   "execution_count": 8,
   "metadata": {},
   "outputs": [],
   "source": [
    "togo_dataset = evaluation_datasets[\"togo-eval\"]"
   ]
  },
  {
   "cell_type": "code",
   "execution_count": 9,
   "metadata": {},
   "outputs": [],
   "source": [
    "X, Y = [], []\n",
    "for i in range(len(togo_dataset)):\n",
    "    x, y = togo_dataset[i]\n",
    "    X.append(x)\n",
    "    Y.append(y)\n",
    "X_np, Y_np = np.stack(X), np.stack(Y)"
   ]
  },
  {
   "cell_type": "code",
   "execution_count": 10,
   "metadata": {},
   "outputs": [
    {
     "data": {
      "text/plain": [
       "((1290, 12, 18), (1290,))"
      ]
     },
     "execution_count": 10,
     "metadata": {},
     "output_type": "execute_result"
    }
   ],
   "source": [
    "X_np.shape, Y_np.shape"
   ]
  },
  {
   "cell_type": "code",
   "execution_count": 11,
   "metadata": {},
   "outputs": [],
   "source": [
    "def flatten(array): return array.reshape(array.shape[0], -1)"
   ]
  },
  {
   "cell_type": "code",
   "execution_count": 12,
   "metadata": {},
   "outputs": [
    {
     "data": {
      "text/plain": [
       "RandomForestClassifier(bootstrap=True, ccp_alpha=0.0, class_weight=None,\n",
       "                       criterion='gini', max_depth=None, max_features='auto',\n",
       "                       max_leaf_nodes=None, max_samples=None,\n",
       "                       min_impurity_decrease=0.0, min_impurity_split=None,\n",
       "                       min_samples_leaf=1, min_samples_split=2,\n",
       "                       min_weight_fraction_leaf=0.0, n_estimators=100,\n",
       "                       n_jobs=None, oob_score=False, random_state=None,\n",
       "                       verbose=0, warm_start=False)"
      ]
     },
     "execution_count": 12,
     "metadata": {},
     "output_type": "execute_result"
    }
   ],
   "source": [
    "model = RandomForestClassifier()\n",
    "model.fit(flatten(X_np), Y_np)"
   ]
  },
  {
   "cell_type": "code",
   "execution_count": 14,
   "metadata": {},
   "outputs": [],
   "source": [
    "test_preds, test_y = [], []\n",
    "for _, test_instance in togo_dataset.test_data():\n",
    "    \n",
    "    test_preds.append(model.predict_proba(flatten(test_instance.x))[:, 1])\n",
    "    test_y.append(test_instance.y)"
   ]
  },
  {
   "cell_type": "code",
   "execution_count": 15,
   "metadata": {},
   "outputs": [
    {
     "name": "stdout",
     "output_type": "stream",
     "text": [
      "For the Random Forest classifier, AUC ROC score: 0.8884433962264151, \n"
     ]
    }
   ],
   "source": [
    "print(\n",
    "    f\"For the Random Forest classifier, \"\n",
    "    f\"AUC ROC score: {roc_auc_score(test_y[0], test_preds[0])}, \"\n",
    ")"
   ]
  }
 ],
 "metadata": {
  "kernelspec": {
   "display_name": "Python 3",
   "language": "python",
   "name": "python3"
  },
  "language_info": {
   "codemirror_mode": {
    "name": "ipython",
    "version": 3
   },
   "file_extension": ".py",
   "mimetype": "text/x-python",
   "name": "python",
   "nbconvert_exporter": "python",
   "pygments_lexer": "ipython3",
   "version": "3.6.10"
  }
 },
 "nbformat": 4,
 "nbformat_minor": 5
}
